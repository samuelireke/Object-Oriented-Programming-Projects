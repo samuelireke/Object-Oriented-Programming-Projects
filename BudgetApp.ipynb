{
 "cells": [
  {
   "cell_type": "markdown",
   "metadata": {},
   "source": [
    "### Project Description\n",
    "\n",
    "Complete the `Category` class in `budget.py`. It should be able to instantiate objects based on different budget categories like *food*, *clothing*, and *entertainment*. When objects are created, they are passed in the name of the category. The class should have an instance variable called `ledger` that is a list. The class should also contain the following methods:\n",
    "\n",
    "* A `deposit` method that accepts an amount and description. If no description is given, it should default to an empty string. The method should append an object to the ledger list in the form of `{\"amount\": amount, \"description\": description}`.\n",
    "* A `withdraw` method that is similar to the `deposit` method, but the amount passed in should be stored in the ledger as a negative number. If there are not enough funds, nothing should be added to the ledger. This method should return `True` if the withdrawal took place, and `False` otherwise.\n",
    "* A `get_balance` method that returns the current balance of the budget category based on the deposits and withdrawals that have occurred.\n",
    "* A `transfer` method that accepts an amount and another budget category as arguments. The method should add a withdrawal with the amount and the description \"Transfer to [Destination Budget Category]\". The method should then add a deposit to the other budget category with the amount and the description \"Transfer from [Source Budget Category]\". If there are not enough funds, nothing should be added to either ledgers. This method should return `True` if the transfer took place, and `False` otherwise.\n",
    "* A `check_funds` method that accepts an amount as an argument. It returns `False` if the amount is greater than the balance of the budget category and returns `True` otherwise. This method should be used by both the `withdraw` method and `transfer` method.\n",
    "\n",
    "When the budget object is printed it should display:\n",
    "* A title line of 30 characters where the name of the category is centered in a line of `*` characters.\n",
    "* A list of the items in the ledger. Each line should show the description and amount. The first 23 characters of the description should be displayed, then the amount. The amount should be right aligned, contain two decimal places, and display a maximum of 7 characters.\n",
    "* A line displaying the category total.\n",
    "\n",
    "Here is an example of the output:\n",
    "```\n",
    "*************Food*************\n",
    "initial deposit        1000.00\n",
    "groceries               -10.15\n",
    "restaurant and more foo -15.89\n",
    "Transfer to Clothing    -50.00\n",
    "Total: 923.96\n",
    "```\n",
    "\n",
    "Besides the `Category` class, create a function (outside of the class) called `create_spend_chart` that takes a list of categories as an argument. It should return a string that is a bar chart.\n",
    "\n",
    "The chart should show the percentage spent in each category passed in to the function. The percentage spent should be calculated only with withdrawals and not with deposits. Down the left side of the chart should be labels 0 - 100. The \"bars\" in the bar chart should be made out of the \"o\" character. The height of each bar should be rounded down to the nearest 10. The horizontal line below the bars should go two spaces past the final bar. Each category name should be written vertically below the bar. There should be a title at the top that says \"Percentage spent by category\".\n",
    "\n",
    "This function will be tested with up to four categories.\n",
    "\n",
    "Look at the example output below very closely and make sure the spacing of the output matches the example exactly.\n",
    "\n",
    "```\n",
    "Percentage spent by category\n",
    "100|          \n",
    " 90|          \n",
    " 80|          \n",
    " 70|          \n",
    " 60| o        \n",
    " 50| o        \n",
    " 40| o        \n",
    " 30| o        \n",
    " 20| o  o     \n",
    " 10| o  o  o  \n",
    "  0| o  o  o  \n",
    "    ----------\n",
    "     F  C  A  \n",
    "     o  l  u  \n",
    "     o  o  t  \n",
    "     d  t  o  \n",
    "        h     \n",
    "        i     \n",
    "        n     \n",
    "        g     \n",
    "```\n",
    "\n",
    "The unit tests for this project are in `test_module.py`.\n",
    "\n",
    "### Development\n",
    "\n",
    "Write your code in `budget.py`. For development, you can use `main.py` to test your `Category` class. Click the \"run\" button and `main.py` will run.\n",
    "\n",
    "### Testing \n",
    "\n",
    "We imported the tests from `test_module.py` to `main.py` for your convenience. The tests will run automatically whenever you hit the \"run\" button.\n",
    "\n",
    "### Submitting\n",
    "\n",
    "Copy your project's URL and submit it to freeCodeCamp.\n"
   ]
  },
  {
   "cell_type": "code",
   "execution_count": 32,
   "metadata": {},
   "outputs": [],
   "source": [
    "class Category:  \n",
    "    '''\n",
    "    This class should be able to instantiate objects based on different budget categories like food, clothing, and entertainment. When objects are created, they are passed in the name of the category. The class should have an instance variable called ledger that is a list.\n",
    "    '''\n",
    "    def __init__(self,name):\n",
    "        self.name = name\n",
    "        self.ledger = []\n",
    "\n",
    "    def deposit(self,amount:float, description = \"\"):    \n",
    "        '''\n",
    "        The deposit method accepts an amount and description. If no description is given, it should default to an empty string. The method should append an object to the ledger list in the form of {\"amount\": amount, \"description\": description}.\n",
    "        '''\n",
    "        self.amount = amount\n",
    "        self.description = description\n",
    "        self.ledger.append({'amount': self.amount, 'description': self.description})\n",
    "        \n",
    "    def withdraw(self,amount:float, description = \"\"):    \n",
    "        '''\n",
    "        The deposit method accepts an amount and description. If no description is given, it should default to an empty string. The method should append an object to the ledger list in the form of {\"amount\": amount, \"description\": description}.\n",
    "        '''\n",
    "        self.amount = amount\n",
    "        self.description = description\n",
    "        if self.check_funds(amount):\n",
    "            self.ledger.append({'amount': -self.amount, 'description': self.description})\n",
    "            return True\n",
    "        return False\n",
    "    \n",
    "    def get_balance(self):\n",
    "        '''\n",
    "        The get_balance method returns the current balance of the budget category based on the deposits and withdrawals that have occurred.\n",
    "        '''\n",
    "        self.deposits = []\n",
    "        for i, item in enumerate(self.ledger):\n",
    "\n",
    "            if 'amount' in item:\n",
    "                self.deposits.append(item['amount'])\n",
    "        self.balance = sum(self.deposits)      \n",
    "        return self.balance\n",
    "    \n",
    "    def transfer(self,transfer_amount,destination):\n",
    "        self.transfer_amount = transfer_amount\n",
    "        self.destination = destination.name\n",
    "        self.description =f\"Transfer to {self.destination}\"\n",
    "        self.descr_destination = f\"Transfer from {self.name}\"\n",
    "        if self.check_funds(transfer_amount):\n",
    "            self.ledger.append({'amount': -self.transfer_amount, 'description': self.description})\n",
    "            destination.ledger.append({'amount': self.transfer_amount, 'description': self.descr_destination})\n",
    "            return True\n",
    "        return False\n",
    "        \n",
    "    def check_funds(self, funds):\n",
    "        self.funds = funds\n",
    "        if self.funds <= self.get_balance():\n",
    "            return True\n",
    "        return False\n",
    "        \n",
    "    def __str__(self):\n",
    "        title = f\"{self.name.center(30,'*')}\\n\"\n",
    "        items = \"\"\n",
    "        for item in (self.ledger):\n",
    "                items += f\"{item['description'][:23]:<23}{item['amount']:>7.2f}\" + '\\n'\n",
    "        total = f\"Total: {self.get_balance():.2f}\"\n",
    "        output = title + items + total\n",
    "        return(output)\n",
    "    \n",
    "    def total_withdrawal(self):\n",
    "        self.Withdrawal = []\n",
    "        for item in self.ledger:\n",
    "            if item['amount'] <=0:\n",
    "                self.Withdrawal.append(item['amount'])\n",
    "        self.total = (sum(self.Withdrawal))\n",
    "        return self.total\n",
    "    \n",
    "    def percentage_spent(self, cat =[]):\n",
    "        self.cat = cat\n",
    "        self.Total_Withdrawals = []\n",
    "        for category in self.cat:\n",
    "            self.Total_Withdrawals.append(category.total_withdrawal())\n",
    "        self.Percentage_spent = round_down((self.total_withdrawal()/sum(self.Total_Withdrawals) *100))\n",
    "        return (self.Percentage_spent)\n",
    "\n",
    "def round_down(x):\n",
    "    return (int(x/10)*10)\n",
    "\n",
    "def create_spend_chart(cat = []):\n",
    "    title = f\"Percentage spent by category\\n\"\n",
    "    i = 100\n",
    "    cat = cat\n",
    "    cat_name = []\n",
    "    plot = \"\"\n",
    "    bottom = \"\"\n",
    "    while i <= 100 and i >=0:\n",
    "        plot += f\"{i:>3}| {'o' if i <= cat[0].percentage_spent(cat) else ' '}  {'o' if i <= cat[1].percentage_spent(cat) else ' '}  {'o' if i <= cat[2].percentage_spent(cat) else ' '}  \" + '\\n'\n",
    "\n",
    "        i -=10\n",
    "    line = f\"{'-'*10:>14}\" + '\\n'\n",
    "    for y in cat:\n",
    "        cat_name.append(y.name)\n",
    "    max_len = max([len(y) for y in cat_name])\n",
    "    for i in range(max_len):\n",
    "        bottom += f\"{' '.rjust(6) if i >= len(cat_name[0]) else cat_name[0][i].rjust(6)}  {' ' if i >= len(cat_name[1]) else cat_name[1][i]}  {'  ' if i >= len(cat_name[2]) else cat_name[2][i]}  \"\n",
    "        if i < (max_len - 1):\n",
    "            bottom += '\\n'    \n",
    "    bar_chart = title + plot + line + bottom\n",
    "    return bar_chart\n"
   ]
  },
  {
   "cell_type": "code",
   "execution_count": 33,
   "metadata": {},
   "outputs": [],
   "source": [
    "#Instantiate Budget categories\n",
    "Food = Category('Food')\n",
    "Clothing = Category('Clothing')\n",
    "Entertainment = Category('Entertainment')"
   ]
  },
  {
   "cell_type": "code",
   "execution_count": 34,
   "metadata": {
    "scrolled": true
   },
   "outputs": [
    {
     "data": {
      "text/plain": [
       "True"
      ]
     },
     "execution_count": 34,
     "metadata": {},
     "output_type": "execute_result"
    }
   ],
   "source": [
    "#Initial deposit\n",
    "Food.deposit(1000,'initial deposit')\n",
    "\n",
    "#withdrawal\n",
    "Food.withdraw(10.15,'groceries')\n",
    "Food.withdraw(15.89,'restaurant and more foods')\n",
    "\n",
    "# Funds Transfer to Clothing\n",
    "Food.transfer(50,Clothing)\n"
   ]
  },
  {
   "cell_type": "code",
   "execution_count": 35,
   "metadata": {},
   "outputs": [
    {
     "name": "stdout",
     "output_type": "stream",
     "text": [
      "[{'amount': 1000, 'description': 'initial deposit'}, {'amount': -10.15, 'description': 'groceries'}, {'amount': -15.89, 'description': 'restaurant and more foods'}, {'amount': -50, 'description': 'Transfer to Clothing'}]\n"
     ]
    }
   ],
   "source": [
    "print(Food.ledger)"
   ]
  },
  {
   "cell_type": "code",
   "execution_count": 36,
   "metadata": {},
   "outputs": [
    {
     "name": "stdout",
     "output_type": "stream",
     "text": [
      "*************Food*************\n",
      "initial deposit        1000.00\n",
      "groceries               -10.15\n",
      "restaurant and more foo -15.89\n",
      "Transfer to Clothing    -50.00\n",
      "Total: 923.96\n"
     ]
    }
   ],
   "source": [
    "print(Food)"
   ]
  },
  {
   "cell_type": "code",
   "execution_count": 37,
   "metadata": {},
   "outputs": [
    {
     "name": "stdout",
     "output_type": "stream",
     "text": [
      "[{'amount': 5000, 'description': 'Food deposit'}, {'amount': -2000, 'description': 'rice'}]\n"
     ]
    },
    {
     "data": {
      "text/plain": [
       "[{'amount': 800, 'description': 'Clothing deposit'},\n",
       " {'amount': -50, 'description': 'socks'}]"
      ]
     },
     "execution_count": 37,
     "metadata": {},
     "output_type": "execute_result"
    }
   ],
   "source": [
    "Food = Category('Food')\n",
    "Food.deposit(5000,'Food deposit')\n",
    "Food.withdraw(2000,'rice')\n",
    "print(Food.ledger)\n",
    "\n",
    "Clothing = Category('Clothing')\n",
    "Clothing.deposit(800, 'Clothing deposit')\n",
    "Clothing.withdraw(50, 'socks')\n",
    "Clothing.ledger\n"
   ]
  },
  {
   "cell_type": "code",
   "execution_count": 38,
   "metadata": {},
   "outputs": [
    {
     "name": "stdout",
     "output_type": "stream",
     "text": [
      "[{'amount': 5000, 'description': 'Food deposit'}, {'amount': -2000, 'description': 'rice'}, {'amount': -700, 'description': 'beans'}]\n"
     ]
    }
   ],
   "source": [
    "Food.withdraw(700,'beans')\n",
    "print(Food.ledger)"
   ]
  },
  {
   "cell_type": "code",
   "execution_count": 39,
   "metadata": {},
   "outputs": [
    {
     "name": "stdout",
     "output_type": "stream",
     "text": [
      "[{'amount': 5000, 'description': 'Food deposit'}, {'amount': -2000, 'description': 'rice'}, {'amount': -700, 'description': 'beans'}, {'amount': -300, 'description': 'spaghetti'}]\n"
     ]
    }
   ],
   "source": [
    "Food.withdraw(300,'spaghetti')\n",
    "print(Food.ledger)"
   ]
  },
  {
   "cell_type": "code",
   "execution_count": 40,
   "metadata": {},
   "outputs": [
    {
     "name": "stdout",
     "output_type": "stream",
     "text": [
      "[{'amount': 800, 'description': 'Clothing deposit'}, {'amount': -50, 'description': 'socks'}, {'amount': -500, 'description': 'party clothes'}]\n"
     ]
    }
   ],
   "source": [
    "Clothing.withdraw(500,'party clothes')\n",
    "print(Clothing.ledger)"
   ]
  },
  {
   "cell_type": "code",
   "execution_count": 41,
   "metadata": {},
   "outputs": [
    {
     "data": {
      "text/plain": [
       "[{'amount': 1500, 'description': 'Entertainment deposit'},\n",
       " {'amount': -200, 'description': 'movies'}]"
      ]
     },
     "execution_count": 41,
     "metadata": {},
     "output_type": "execute_result"
    }
   ],
   "source": [
    "Entertainment = Category('Entertainment')\n",
    "Entertainment.deposit(1500, 'Entertainment deposit')\n",
    "Entertainment.withdraw(200, 'movies')\n",
    "Entertainment.ledger"
   ]
  },
  {
   "cell_type": "code",
   "execution_count": 42,
   "metadata": {},
   "outputs": [
    {
     "data": {
      "text/plain": [
       "[{'amount': 5000, 'description': 'Food deposit'},\n",
       " {'amount': -2000, 'description': 'rice'},\n",
       " {'amount': -700, 'description': 'beans'},\n",
       " {'amount': -300, 'description': 'spaghetti'},\n",
       " {'amount': 300, 'description': 'Food deposit2'}]"
      ]
     },
     "execution_count": 42,
     "metadata": {},
     "output_type": "execute_result"
    }
   ],
   "source": [
    "Food.deposit(300,'Food deposit2')\n",
    "Food.ledger"
   ]
  },
  {
   "cell_type": "code",
   "execution_count": 43,
   "metadata": {},
   "outputs": [
    {
     "name": "stdout",
     "output_type": "stream",
     "text": [
      "Food Balance:  2300\n",
      "Entertainment Balance:  1300\n",
      "Clothing Balance:  250\n"
     ]
    }
   ],
   "source": [
    "print('Food Balance: ', Food.get_balance())\n",
    "print('Entertainment Balance: ', Entertainment.get_balance())\n",
    "print('Clothing Balance: ', Clothing.get_balance())"
   ]
  },
  {
   "cell_type": "code",
   "execution_count": 44,
   "metadata": {},
   "outputs": [
    {
     "data": {
      "text/plain": [
       "True"
      ]
     },
     "execution_count": 44,
     "metadata": {},
     "output_type": "execute_result"
    }
   ],
   "source": [
    "Food.transfer(300,Entertainment)"
   ]
  },
  {
   "cell_type": "code",
   "execution_count": 45,
   "metadata": {},
   "outputs": [
    {
     "data": {
      "text/plain": [
       "[{'amount': 5000, 'description': 'Food deposit'},\n",
       " {'amount': -2000, 'description': 'rice'},\n",
       " {'amount': -700, 'description': 'beans'},\n",
       " {'amount': -300, 'description': 'spaghetti'},\n",
       " {'amount': 300, 'description': 'Food deposit2'},\n",
       " {'amount': -300, 'description': 'Transfer to Entertainment'}]"
      ]
     },
     "execution_count": 45,
     "metadata": {},
     "output_type": "execute_result"
    }
   ],
   "source": [
    "Food.ledger"
   ]
  },
  {
   "cell_type": "code",
   "execution_count": 46,
   "metadata": {},
   "outputs": [
    {
     "data": {
      "text/plain": [
       "2000"
      ]
     },
     "execution_count": 46,
     "metadata": {},
     "output_type": "execute_result"
    }
   ],
   "source": [
    "Food.get_balance()"
   ]
  },
  {
   "cell_type": "code",
   "execution_count": 47,
   "metadata": {},
   "outputs": [
    {
     "data": {
      "text/plain": [
       "1600"
      ]
     },
     "execution_count": 47,
     "metadata": {},
     "output_type": "execute_result"
    }
   ],
   "source": [
    "Entertainment.get_balance()"
   ]
  },
  {
   "cell_type": "code",
   "execution_count": 48,
   "metadata": {},
   "outputs": [
    {
     "data": {
      "text/plain": [
       "[{'amount': 1500, 'description': 'Entertainment deposit'},\n",
       " {'amount': -200, 'description': 'movies'},\n",
       " {'amount': 300, 'description': 'Transfer from Food'}]"
      ]
     },
     "execution_count": 48,
     "metadata": {},
     "output_type": "execute_result"
    }
   ],
   "source": [
    "Entertainment.ledger"
   ]
  },
  {
   "cell_type": "code",
   "execution_count": 49,
   "metadata": {
    "scrolled": true
   },
   "outputs": [
    {
     "name": "stdout",
     "output_type": "stream",
     "text": [
      "*************Food*************\n",
      "Food deposit           5000.00\n",
      "rice                   -2000.00\n",
      "beans                  -700.00\n",
      "spaghetti              -300.00\n",
      "Food deposit2           300.00\n",
      "Transfer to Entertainme-300.00\n",
      "Total: 2000.00\n"
     ]
    }
   ],
   "source": [
    "print(Food)"
   ]
  },
  {
   "cell_type": "code",
   "execution_count": 70,
   "metadata": {},
   "outputs": [
    {
     "name": "stdout",
     "output_type": "stream",
     "text": [
      "[0, 1, 2, 3, 4, 5, 6, 7, 8, 9, 10, 11, 12]\n"
     ]
    }
   ],
   "source": [
    "print(list(range(max_len)))"
   ]
  },
  {
   "cell_type": "code",
   "execution_count": 73,
   "metadata": {},
   "outputs": [
    {
     "data": {
      "text/plain": [
       "'Percentage spent by category\\n100|          \\n 90|          \\n 80| o        \\n 70| o        \\n 60| o        \\n 50| o        \\n 40| o        \\n 30| o        \\n 20| o        \\n 10| o     o  \\n  0| o  o  o  \\n    ----------\\n     F  E  C  \\n     o  n  l  \\n     o  t  o  \\n     d  e  t  \\n        r  h  \\n        t  i  \\n        a  n  \\n        i  g  \\n        n      \\n        m      \\n        e      \\n        n      \\n        t      '"
      ]
     },
     "execution_count": 73,
     "metadata": {},
     "output_type": "execute_result"
    }
   ],
   "source": [
    "create_spend_chart([Food, Entertainment, Clothing])"
   ]
  },
  {
   "cell_type": "code",
   "execution_count": 76,
   "metadata": {},
   "outputs": [
    {
     "name": "stdout",
     "output_type": "stream",
     "text": [
      "    ----------\n",
      "F  E  C\n",
      "o  n  l\n",
      "o  t  o\n",
      "d  e  t\n",
      "   r  h\n",
      "   t  i\n",
      "   a  n\n",
      "   i  g\n",
      "   n    \n",
      "   m    \n",
      "   e    \n",
      "   n    \n",
      "   t    \n"
     ]
    }
   ],
   "source": [
    "cat = [Food.name, Entertainment.name, Clothing.name]\n",
    "print(f\"{'-'*10:>14}\")\n",
    "max_len = max([len(y) for y in cat])\n",
    "max_len\n",
    "for i in range(max_len):\n",
    "      print(f\"{' ' if i >= len(cat[0]) else cat[0][i]}  {' ' if i >= len(cat[1]) else cat[1][i]}  {'  ' if i >= len(cat[2]) else cat[2][i]}\")"
   ]
  },
  {
   "cell_type": "code",
   "execution_count": 54,
   "metadata": {},
   "outputs": [
    {
     "data": {
      "text/plain": [
       "'Clothing'"
      ]
     },
     "execution_count": 54,
     "metadata": {},
     "output_type": "execute_result"
    }
   ],
   "source": [
    "f'{cat[2]}'"
   ]
  },
  {
   "cell_type": "code",
   "execution_count": 57,
   "metadata": {},
   "outputs": [
    {
     "data": {
      "text/plain": [
       "'Percentage spent by category\\n100|          \\n 90|          \\n 80|          \\n 70|          \\n 60| o        \\n 50| o        \\n 40| o        \\n 30| o        \\n 20| o  o     \\n 10| o  o  o  \\n  0| o  o  o  \\n    ----------\\n     F  C  A  \\n     o  l  u  \\n     o  o  t  \\n     d  t  o  \\n        h      \\n        i      \\n        n      \\n        g      \\n'"
      ]
     },
     "execution_count": 57,
     "metadata": {},
     "output_type": "execute_result"
    }
   ],
   "source": [
    "create_spend_chart([food, clothing, auto])"
   ]
  },
  {
   "cell_type": "code",
   "execution_count": 58,
   "metadata": {},
   "outputs": [
    {
     "data": {
      "text/plain": [
       "-3300"
      ]
     },
     "execution_count": 58,
     "metadata": {},
     "output_type": "execute_result"
    }
   ],
   "source": [
    "Food.total_withdrawal()"
   ]
  },
  {
   "cell_type": "code",
   "execution_count": 59,
   "metadata": {},
   "outputs": [
    {
     "data": {
      "text/plain": [
       "10"
      ]
     },
     "execution_count": 59,
     "metadata": {},
     "output_type": "execute_result"
    }
   ],
   "source": [
    "cat = [Food, Entertainment, Clothing]\n",
    "cat[2].percentage_spent(cat)"
   ]
  },
  {
   "cell_type": "markdown",
   "metadata": {},
   "source": [
    "# Final Solution"
   ]
  },
  {
   "cell_type": "code",
   "execution_count": 74,
   "metadata": {},
   "outputs": [],
   "source": [
    "class Category:  \n",
    "    '''\n",
    "    This class should be able to instantiate objects based on different budget categories like food, clothing, and entertainment. When objects are created, they are passed in the name of the category. The class should have an instance variable called ledger that is a list.\n",
    "    '''\n",
    "    def __init__(self,name):\n",
    "        self.name = name\n",
    "        self.ledger = []\n",
    "\n",
    "    def deposit(self,amount:float, description = \"\"):    \n",
    "        '''\n",
    "        The deposit method accepts an amount and description. If no description is given, it should default to an empty string. The method should append an object to the ledger list in the form of {\"amount\": amount, \"description\": description}.\n",
    "        '''\n",
    "        self.amount = amount\n",
    "        self.description = description\n",
    "        self.ledger.append({'amount': self.amount, 'description': self.description})\n",
    "        \n",
    "    def withdraw(self,amount:float, description = \"\"):    \n",
    "        '''\n",
    "        The deposit method accepts an amount and description. If no description is given, it should default to an empty string. The method should append an object to the ledger list in the form of {\"amount\": amount, \"description\": description}.\n",
    "        '''\n",
    "        self.amount = amount\n",
    "        self.description = description\n",
    "        if self.check_funds(amount):\n",
    "            self.ledger.append({'amount': -self.amount, 'description': self.description})\n",
    "            return True\n",
    "        return False\n",
    "    \n",
    "    def get_balance(self):\n",
    "        '''\n",
    "        The get_balance method returns the current balance of the budget category based on the deposits and withdrawals that have occurred.\n",
    "        '''\n",
    "        self.deposits = []\n",
    "        for i, item in enumerate(self.ledger):\n",
    "\n",
    "            if 'amount' in item:\n",
    "                self.deposits.append(item['amount'])\n",
    "        self.balance = sum(self.deposits)      \n",
    "        return self.balance\n",
    "    \n",
    "    def transfer(self,transfer_amount,destination):\n",
    "        self.transfer_amount = transfer_amount\n",
    "        self.destination = destination.name\n",
    "        self.description =f\"Transfer to {self.destination}\"\n",
    "        self.descr_destination = f\"Transfer from {self.name}\"\n",
    "        if self.check_funds(transfer_amount):\n",
    "            self.ledger.append({'amount': -self.transfer_amount, 'description': self.description})\n",
    "            destination.ledger.append({'amount': self.transfer_amount, 'description': self.descr_destination})\n",
    "            return True\n",
    "        return False\n",
    "        \n",
    "    def check_funds(self, funds):\n",
    "        self.funds = funds\n",
    "        if self.funds <= self.get_balance():\n",
    "            return True\n",
    "        return False\n",
    "        \n",
    "    def __str__(self):\n",
    "        title = f\"{self.name.center(30,'*')}\\n\"\n",
    "        items = \"\"\n",
    "        for item in (self.ledger):\n",
    "                items += f\"{item['description'][:23]:<23}{item['amount']:>7.2f}\" + '\\n'\n",
    "        total = f\"Total: {self.get_balance():.2f}\"\n",
    "        output = title + items + total\n",
    "        return(output)\n",
    "\n",
    "    def total_withdrawal(self):\n",
    "        self.Withdrawal = []\n",
    "        for item in self.ledger:\n",
    "            if item['amount'] <=0:\n",
    "                self.Withdrawal.append(item['amount'])\n",
    "        self.total = (sum(self.Withdrawal))\n",
    "        return self.total\n",
    "    \n",
    "    def percentage_spent(self, cat =[]):\n",
    "        self.cat = cat\n",
    "        self.Total_Withdrawals = []\n",
    "        for category in self.cat:\n",
    "            self.Total_Withdrawals.append(category.total_withdrawal())\n",
    "        self.Percentage_spent = round_down((self.total_withdrawal()/sum(self.Total_Withdrawals) *100))\n",
    "        return (self.Percentage_spent)\n",
    "        \n",
    "def round_down(x):\n",
    "    return (int(x/10)*10)\n",
    "\n",
    "def create_spend_chart(cat = []):\n",
    "\n",
    "  '''\n",
    "  The create_spend_chart function takes a list of categories as an argument. It should return a string that is a bar chart.\n",
    "\n",
    "  The chart should show the percentage spent in each category passed in to the function. The percentage spent should be calculated only with withdrawals and not with deposits. Down the left side of the chart should be labels 0 - 100. The \"bars\" in the bar chart should be made out of the \"o\" character. The height of each bar should be rounded down to the nearest 10. The horizontal line below the bars should go two spaces past the final bar. Each category name should be written vertically below the bar. There should be a title at the top that says \"Percentage spent by category\".\n",
    "  '''\n",
    "  title = f\"Percentage spent by category\\n\"\n",
    "  i = 100\n",
    "  cat = cat\n",
    "  cat_name = []\n",
    "  plot = \"\"\n",
    "  bottom = \"\"\n",
    "  while i <= 100 and i >=0:\n",
    "      plot += f\"{i:>3}| {'o' if i <= cat[0].percentage_spent(cat) else ' '}  {'o' if i <= cat[1].percentage_spent(cat) else ' '}  {'o' if i <= cat[2].percentage_spent(cat) else ' '}  \" + '\\n'\n",
    "\n",
    "      i -=10\n",
    "  line = f\"{'-'*10:>14}\" + '\\n'\n",
    "  for y in cat:\n",
    "      cat_name.append(y.name)\n",
    "  max_len = max([len(y) for y in cat_name])\n",
    "  for i in range(max_len):\n",
    "        bottom += f\"{' '.rjust(6) if i >= len(cat_name[0]) else cat_name[0][i].rjust(6)}  {' ' if i >= len(cat_name[1]) else cat_name[1][i]}  {'  ' if i >= len(cat_name[2]) else cat_name[2][i]}  \" \n",
    "        if i < (max_len - 1):\n",
    "            bottom += '\\n'  \n",
    "  bar_chart = title + plot + line + bottom\n",
    "  return bar_chart"
   ]
  },
  {
   "cell_type": "code",
   "execution_count": 56,
   "metadata": {},
   "outputs": [
    {
     "name": "stdout",
     "output_type": "stream",
     "text": [
      "973.96\n",
      "*************Food*************\n",
      "initial deposit        1000.00\n",
      "groceries               -10.15\n",
      "restaurant and more foo -15.89\n",
      "Transfer to Clothing    -50.00\n",
      "Total: 923.96\n",
      "***********Clothing***********\n",
      "Transfer from Food       50.00\n",
      "                        -25.55\n",
      "Total: 24.45\n",
      "Percentage spent by category\n",
      "100|          \n",
      " 90|          \n",
      " 80|          \n",
      " 70|          \n",
      " 60| o        \n",
      " 50| o        \n",
      " 40| o        \n",
      " 30| o        \n",
      " 20| o  o     \n",
      " 10| o  o  o  \n",
      "  0| o  o  o  \n",
      "    ----------\n",
      "     F  C  A  \n",
      "     o  l  u  \n",
      "     o  o  t  \n",
      "     d  t  o  \n",
      "        h      \n",
      "        i      \n",
      "        n      \n",
      "        g      \n",
      "\n"
     ]
    }
   ],
   "source": [
    "food = Category(\"Food\")\n",
    "food.deposit(1000, \"initial deposit\")\n",
    "food.withdraw(10.15, \"groceries\")\n",
    "food.withdraw(15.89, \"restaurant and more food for dessert\")\n",
    "print(food.get_balance())\n",
    "clothing = Category(\"Clothing\")\n",
    "food.transfer(50, clothing)\n",
    "clothing.withdraw(25.55)\n",
    "clothing.withdraw(100)\n",
    "auto = Category(\"Auto\")\n",
    "auto.deposit(1000, \"initial deposit\")\n",
    "auto.withdraw(15)\n",
    "\n",
    "print(food)\n",
    "print(clothing)\n",
    "\n",
    "print(create_spend_chart([food, clothing, auto]))"
   ]
  },
  {
   "cell_type": "code",
   "execution_count": 62,
   "metadata": {},
   "outputs": [
    {
     "data": {
      "text/plain": [
       "True"
      ]
     },
     "execution_count": 62,
     "metadata": {},
     "output_type": "execute_result"
    }
   ],
   "source": [
    "food = Category(\"Food\")\n",
    "entertainment = Category(\"Entertainment\")\n",
    "business = Category(\"Business\")\n",
    "food.deposit(900, \"deposit\")\n",
    "entertainment.deposit(900, \"deposit\")\n",
    "business.deposit(900, \"deposit\")\n",
    "food.withdraw(105.55)\n",
    "entertainment.withdraw(33.40)\n",
    "business.withdraw(10.99)"
   ]
  },
  {
   "cell_type": "code",
   "execution_count": 63,
   "metadata": {},
   "outputs": [
    {
     "name": "stdout",
     "output_type": "stream",
     "text": [
      "Percentage spent by category\n",
      "100|          \n",
      " 90|          \n",
      " 80|          \n",
      " 70|    o     \n",
      " 60|    o     \n",
      " 50|    o     \n",
      " 40|    o     \n",
      " 30|    o     \n",
      " 20|    o  o  \n",
      " 10|    o  o  \n",
      "  0| o  o  o  \n",
      "    ----------\n",
      "     B  F  E  \n",
      "     u  o  n  \n",
      "     s  o  t  \n",
      "     i  d  e  \n",
      "     n     r  \n",
      "     e     t  \n",
      "     s     a  \n",
      "     s     i  \n",
      "           n  \n",
      "           m  \n",
      "           e  \n",
      "           n  \n",
      "           t  \n",
      "\n"
     ]
    }
   ],
   "source": [
    "print(create_spend_chart([business, food, entertainment]))"
   ]
  }
 ],
 "metadata": {
  "kernelspec": {
   "display_name": "Python 3",
   "language": "python",
   "name": "python3"
  },
  "language_info": {
   "codemirror_mode": {
    "name": "ipython",
    "version": 3
   },
   "file_extension": ".py",
   "mimetype": "text/x-python",
   "name": "python",
   "nbconvert_exporter": "python",
   "pygments_lexer": "ipython3",
   "version": "3.7.4"
  }
 },
 "nbformat": 4,
 "nbformat_minor": 2
}
