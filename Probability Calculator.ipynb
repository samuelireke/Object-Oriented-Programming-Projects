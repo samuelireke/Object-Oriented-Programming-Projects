{
 "cells": [
  {
   "cell_type": "markdown",
   "metadata": {},
   "source": [
    "# Probability Calculator"
   ]
  },
  {
   "cell_type": "markdown",
   "metadata": {},
   "source": [
    "### Project Description\n",
    "\n",
    "Suppose there is a hat containing 5 blue balls, 4 red balls, and 2 green balls. What is the probability that a random draw of 4 balls will contain at least 1 red ball and 2 green balls? While it would be possible to calculate the probability using advanced mathematics, an easier way is to write a program to perform a large number of experiments to estimate an approximate probability.\n",
    "\n",
    "For this project, you will write a program to determine the approximate probability of drawing certain balls randomly from a hat. \n",
    "\n",
    "First, create a `Hat` class in `prob_calculator.py`. The class should take a variable number of arguments that specify the number of balls of each color that are in the hat. For example, a class object could be created in any of these ways:\n",
    "```\n",
    "hat1 = Hat(yellow=3, blue=2, green=6)\n",
    "hat2 = Hat(red=5, orange=4)\n",
    "hat3 = Hat(red=5, orange=4, black=1, blue=0, pink=2, striped=9)\n",
    "```\n",
    "\n",
    "A hat will always be created with at least one ball. The arguments passed into the hat object upon creation should be converted to a `contents` instance variable. `contents` should be a list of strings containing one item for each ball in the hat. Each item in the list should be a color name representing a single ball of that color. For example, if your hat is `{\"red\": 2, \"blue\": 1}`, `contents` should be `[\"red\", \"red\", \"blue\"]`.\n",
    "\n",
    "The `Hat` class should have a `draw` method that accepts an argument indicating the number of balls to draw from the hat. This method should remove balls at random from `contents` and return those balls as a list of strings. The balls should not go back into the hat during the draw, similar to an urn experiment without replacement. If the number of balls to draw exceeds the available quantity, return all the balls.\n",
    "\n",
    "Next, create an `experiment` function in `prob_calculator.py` (not inside the `Hat` class). This function should accept the following arguments:\n",
    "* `hat`: A hat object containing balls that should be copied inside the function.\n",
    "* `expected_balls`: An object indicating the exact group of balls to attempt to draw from the hat for the experiment. For example, to determine the probability of drawing 2 blue balls and 1 red ball from the hat, set `expected_balls` to `{\"blue\":2, \"red\":1}`.\n",
    "* `num_balls_drawn`: The number of balls to draw out of the hat in each experiment.\n",
    "* `num_experiments`: The number of experiments to perform. (The more experiments performed, the more accurate the approximate probability will be.)\n",
    "\n",
    "The `experiment` function should return a probability. \n",
    "\n",
    "For example, let's say that you want to determine the probability of getting at least 2 red balls and 1 green ball when you draw 5 balls from a hat containing 6 black, 4 red, and 3 green. To do this, we perform `N` experiments, count how many times `M` we get at least 2 red balls and 1 green ball, and estimate the probability as `M/N`. Each experiment consists of starting with a hat containing the specified balls, drawing a number of balls, and checking if we got the balls we were attempting to draw.\n",
    "\n",
    "Here is how you would call the `experiment` function based on the example above with 2000 experiments:\n",
    "\n",
    "```\n",
    "hat = Hat(black=6, red=4, green=3)\n",
    "probability = experiment(hat=hat, \n",
    "                  expected_balls={\"red\":2,\"green\":1},\n",
    "                  num_balls_drawn=5,\n",
    "                  num_experiments=2000)\n",
    "```\n",
    "\n",
    "Since this is based on random draws, the probability will be slightly different each time the code is run.\n",
    "\n",
    "*Hint: Consider using the modules that are already imported at the top of `prob_calculator.py`. Do not initialize random seed within `prob_calculator.py`.*\n",
    "\n",
    "### Development\n",
    "\n",
    "Write your code in `prob_calculator.py`. For development, you can use `main.py` to test your code. Click the \"run\" button and `main.py` will run.\n",
    "\n",
    "### Testing \n",
    "\n",
    "The unit tests for this project are in `test_module.py`. We imported the tests from `test_module.py` to `main.py` for your convenience. The tests will run automatically whenever you hit the \"run\" button.\n",
    "\n",
    "### Submitting\n",
    "\n",
    "Copy your project's URL and submit it to freeCodeCamp.\n"
   ]
  },
  {
   "cell_type": "code",
   "execution_count": 429,
   "metadata": {},
   "outputs": [],
   "source": [
    "import copy\n",
    "import random\n",
    "from collections import Counter\n",
    "# Consider using the modules imported above.\n",
    "\n",
    "class Hat:\n",
    "\n",
    "    def __init__(self,**kwargs):\n",
    "        self.contents = []\n",
    "        self.kwargs = kwargs\n",
    "        for key,value in kwargs.items():\n",
    "            [self.contents.append(key) for i in range(value)]\n",
    "        \n",
    "    def __repr__(self):\n",
    "        return f\"{self.kwargs}\"\n",
    "    \n",
    "    def draw(self, num_balls_drawn):\n",
    "        '''\n",
    "        The draw method that accepts an argument indicating the number of balls to draw from the hat. \n",
    "        This method should remove balls at random from contents and return those balls as a list of strings. \n",
    "        The balls should not go back into the hat during the draw, similar to an urn experiment without replacement. \n",
    "        If the number of balls to draw exceeds the available quantity, return all the balls.\n",
    "        '''\n",
    "        self.contents = self.contents.copy()\n",
    "        if num_balls_drawn > len(self.contents):\n",
    "            return self.contents\n",
    "        else:\n",
    "            drawn_colours_list = []\n",
    "            for i in range(num_balls_drawn):\n",
    "                x = len(self.contents)\n",
    "                drawn_colour = self.contents[random.randint(0,x-1)]\n",
    "                drawn_colours_list.append(drawn_colour)\n",
    "                self.contents.remove(drawn_colour)\n",
    "                #self.Contents = self.Contents.copy()\n",
    "            return drawn_colours_list\n",
    "\n",
    "    \n",
    "\n",
    "\n",
    "def experiment(hat, expected_balls, num_balls_drawn, num_experiments):\n",
    "    '''\n",
    "    This function should accept the following arguments:\n",
    "    hat: A hat object containing balls that should be copied inside the function.\n",
    "    expected_balls: An object indicating the exact group of balls to attempt to draw from the hat for the experiment. \n",
    "        For example, to determine the probability of drawing 2 blue balls and 1 red ball from the hat, set expected_balls \n",
    "        to {\"blue\":2, \"red\":1}.\n",
    "    num_balls_drawn: The number of balls to draw out of the hat in each experiment.\n",
    "    num_experiments: The number of experiments to perform. \n",
    "    (The more experiments performed, the more accurate the approximate probability will be.)\n",
    "    \n",
    "    The experiment function should return a probability\n",
    "    '''\n",
    "    expected = [k for k in expected_balls for i in range(expected_balls[k])]\n",
    "    x = 0\n",
    "    for j in range(num_experiments):\n",
    "      drawn = copy.deepcopy(hat).draw(num_balls_drawn)\n",
    "      c1 = Counter(drawn)\n",
    "      c2 = Counter(expected)\n",
    "      l = len(drawn) - len(expected)\n",
    "      diff = c1-c2\n",
    "      l3 = list(diff.elements())\n",
    "      if len(l3) == l:\n",
    "          x += 1\n",
    "      else:\n",
    "          x = x\n",
    "    Probability = x/num_experiments\n",
    "    return Probability\n",
    "        "
   ]
  },
  {
   "cell_type": "code",
   "execution_count": 430,
   "metadata": {},
   "outputs": [
    {
     "name": "stdout",
     "output_type": "stream",
     "text": [
      "['yellow', 'yellow', 'yellow', 'blue', 'blue', 'green', 'green', 'green', 'green', 'green', 'green']\n",
      "['red', 'red', 'red', 'red', 'red', 'orange', 'orange', 'orange', 'orange', 'black', 'pink', 'pink', 'striped', 'striped', 'striped', 'striped', 'striped', 'striped', 'striped', 'striped', 'striped']\n"
     ]
    }
   ],
   "source": [
    "h1 = Hat(yellow=3, blue=2, green=6)\n",
    "print(h1.contents)\n",
    "\n",
    "h2 = Hat(red=5, orange=4, black=1, blue=0, pink=2, striped=9)\n",
    "print(h2.contents)"
   ]
  },
  {
   "cell_type": "code",
   "execution_count": 268,
   "metadata": {},
   "outputs": [
    {
     "data": {
      "text/plain": [
       "{'yellow': 3, 'blue': 2, 'green': 6}"
      ]
     },
     "execution_count": 268,
     "metadata": {},
     "output_type": "execute_result"
    }
   ],
   "source": [
    "h1"
   ]
  },
  {
   "cell_type": "code",
   "execution_count": 234,
   "metadata": {},
   "outputs": [
    {
     "data": {
      "text/plain": [
       "['green', 'blue', 'yellow']"
      ]
     },
     "execution_count": 234,
     "metadata": {},
     "output_type": "execute_result"
    }
   ],
   "source": [
    "h1.draw(3)"
   ]
  },
  {
   "cell_type": "code",
   "execution_count": 235,
   "metadata": {},
   "outputs": [
    {
     "data": {
      "text/plain": [
       "['yellow', 'yellow', 'blue', 'green', 'green', 'green', 'green', 'green']"
      ]
     },
     "execution_count": 235,
     "metadata": {},
     "output_type": "execute_result"
    }
   ],
   "source": [
    "h1.contents"
   ]
  },
  {
   "cell_type": "code",
   "execution_count": 236,
   "metadata": {},
   "outputs": [
    {
     "data": {
      "text/plain": [
       "['yellow', 'yellow', 'blue', 'green', 'green', 'green', 'green', 'green']"
      ]
     },
     "execution_count": 236,
     "metadata": {},
     "output_type": "execute_result"
    }
   ],
   "source": [
    "h1.draw(10) # num > content colours "
   ]
  },
  {
   "cell_type": "code",
   "execution_count": 237,
   "metadata": {},
   "outputs": [
    {
     "data": {
      "text/plain": [
       "['blue', 'blue', 'red']"
      ]
     },
     "execution_count": 237,
     "metadata": {},
     "output_type": "execute_result"
    }
   ],
   "source": [
    "d = {\"blue\":2, \"red\":1}\n",
    "[k for k in d for i in range(d[k])]"
   ]
  },
  {
   "cell_type": "code",
   "execution_count": 238,
   "metadata": {},
   "outputs": [
    {
     "data": {
      "text/plain": [
       "1"
      ]
     },
     "execution_count": 238,
     "metadata": {},
     "output_type": "execute_result"
    }
   ],
   "source": [
    "a = ['yellow', 'yellow', 'blue', 'green', 'green', 'green', 'green', 'green']\n",
    "b = ['green', 'yellow', 'blue']\n",
    "x = 0\n",
    "if set(b) <= set(a):\n",
    "    x += 1\n",
    "else:\n",
    "     print(False)\n",
    "x"
   ]
  },
  {
   "cell_type": "code",
   "execution_count": 302,
   "metadata": {},
   "outputs": [
    {
     "name": "stdout",
     "output_type": "stream",
     "text": [
      "['yellow', 'yellow', 'yellow', 'blue', 'green']\n",
      "['yellow', 'yellow', 'yellow', 'blue', 'blue', 'green', 'green', 'green', 'green', 'green', 'green']\n"
     ]
    }
   ],
   "source": [
    "print(copy.deepcopy(h1).draw(5))\n",
    "print(h1.contents)\n"
   ]
  },
  {
   "cell_type": "code",
   "execution_count": 433,
   "metadata": {},
   "outputs": [
    {
     "data": {
      "text/plain": [
       "0.1505"
      ]
     },
     "execution_count": 433,
     "metadata": {},
     "output_type": "execute_result"
    }
   ],
   "source": [
    "random.seed = 50\n",
    "probability = experiment(hat=h1, \n",
    "                  expected_balls={\"yellow\":1,\"blue\":2},\n",
    "                  num_balls_drawn=5,\n",
    "                  num_experiments=2000)\n",
    "probability"
   ]
  },
  {
   "cell_type": "code",
   "execution_count": 296,
   "metadata": {},
   "outputs": [
    {
     "name": "stdout",
     "output_type": "stream",
     "text": [
      "['yellow', 'yellow', 'yellow', 'blue', 'blue', 'green', 'green', 'green', 'green', 'green', 'green']\n"
     ]
    }
   ],
   "source": [
    "print(h1.contents)"
   ]
  },
  {
   "cell_type": "code",
   "execution_count": 315,
   "metadata": {},
   "outputs": [
    {
     "name": "stdout",
     "output_type": "stream",
     "text": [
      "['yellow', 'yellow', 'yellow', 'blue', 'blue', 'blue', 'blue', 'blue', 'blue']\n"
     ]
    }
   ],
   "source": [
    "expected_balls = {\"yellow\":3,\"blue\":6}\n",
    "expected = [k for k in expected_balls for i in range(expected_balls[k])]\n",
    "print(expected)"
   ]
  },
  {
   "cell_type": "code",
   "execution_count": 381,
   "metadata": {},
   "outputs": [
    {
     "data": {
      "text/plain": [
       "['a', 'c']"
      ]
     },
     "execution_count": 381,
     "metadata": {},
     "output_type": "execute_result"
    }
   ],
   "source": [
    "s = ['a','b','c','d','e', 'd', 'b']\n",
    "v = ['b','d','e', 'b']\n",
    "diff = [x for x in s if x not in v]\n",
    "#if len(diff) > 2:\n",
    "diff\n",
    "    "
   ]
  },
  {
   "cell_type": "code",
   "execution_count": 380,
   "metadata": {},
   "outputs": [
    {
     "name": "stdout",
     "output_type": "stream",
     "text": [
      "True\n"
     ]
    }
   ],
   "source": [
    "if set([x for x in v if v.count(x) > 1]) <= set(s):\n",
    "    print(True)\n",
    "else:\n",
    "    print(False)"
   ]
  },
  {
   "cell_type": "code",
   "execution_count": 382,
   "metadata": {},
   "outputs": [
    {
     "data": {
      "text/plain": [
       "{'b', 'd'}"
      ]
     },
     "execution_count": 382,
     "metadata": {},
     "output_type": "execute_result"
    }
   ],
   "source": [
    "set([x for x in s if s.count(x) > 1])"
   ]
  },
  {
   "cell_type": "code",
   "execution_count": 428,
   "metadata": {},
   "outputs": [
    {
     "name": "stdout",
     "output_type": "stream",
     "text": [
      "True\n"
     ]
    }
   ],
   "source": [
    "l1 = ['a', 'e', 'c', 'b', 'b']\n",
    "l2 = ['b', 'b', 'a']\n",
    "\n",
    "from collections import Counter\n",
    "\n",
    "c1 = Counter(l1)\n",
    "c2 = Counter(l2)\n",
    "\n",
    "diff = c1-c2\n",
    "l3 = list(diff.elements())\n",
    "if len(l3) == len(c1) - len(c2):\n",
    "    print(True)\n",
    "else:\n",
    "    print(False)"
   ]
  },
  {
   "cell_type": "code",
   "execution_count": 423,
   "metadata": {},
   "outputs": [
    {
     "data": {
      "text/plain": [
       "2"
      ]
     },
     "execution_count": 423,
     "metadata": {},
     "output_type": "execute_result"
    }
   ],
   "source": [
    "len(c1) - len(c2)"
   ]
  },
  {
   "cell_type": "code",
   "execution_count": null,
   "metadata": {},
   "outputs": [],
   "source": []
  }
 ],
 "metadata": {
  "kernelspec": {
   "display_name": "Python 3",
   "language": "python",
   "name": "python3"
  },
  "language_info": {
   "codemirror_mode": {
    "name": "ipython",
    "version": 3
   },
   "file_extension": ".py",
   "mimetype": "text/x-python",
   "name": "python",
   "nbconvert_exporter": "python",
   "pygments_lexer": "ipython3",
   "version": "3.7.4"
  }
 },
 "nbformat": 4,
 "nbformat_minor": 2
}
