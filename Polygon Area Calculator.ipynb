{
 "cells": [
  {
   "cell_type": "markdown",
   "metadata": {},
   "source": [
    "# Polygon Area Calculator"
   ]
  },
  {
   "cell_type": "markdown",
   "metadata": {},
   "source": [
    "### Project Description\n",
    "\n",
    "In this project you will use object oriented programming to create a Rectangle class and a Square class. The Square class should be a subclass of Rectangle and inherit methods and attributes.\n",
    "\n",
    "#### Rectangle class\n",
    "When a Rectangle object is created, it should be initialized with `width` and `height` attributes. The class should also contain the following methods:\n",
    "* `set_width`\n",
    "* `set_height`\n",
    "* `get_area`: Returns area (`width * height`)\n",
    "* `get_perimeter`: Returns perimeter (`2 * width + 2 * height`)\n",
    "* `get_diagonal`: Returns diagonal (`(width ** 2 + height ** 2) ** .5`)\n",
    "* `get_picture`: Returns a string that represents the shape using lines of \"\\*\". The number of lines should be equal to the height and the number of \"\\*\" in each line should be equal to the width. There should be a new line (`\\n`) at the end of each line. If the width or height is larger than 50, this should return the string: \"Too big for picture.\".\n",
    "* `get_amount_inside`: Takes another shape (square or rectangle) as an argument. Returns the number of times the passed in shape could fit inside the shape (with no rotations). For instance, a rectangle with a width of 4 and a height of 8 could fit in two squares with sides of 4.\n",
    "\n",
    "Additionally, if an instance of a Rectangle is represented as a string, it should look like: `Rectangle(width=5, height=10)`\n",
    "\n",
    "#### Square class\n",
    "The Square class should be a subclass of Rectangle. When a Square object is created, a single side length is passed in. The `__init__` method should store the side length in both the `width` and `height` attributes from the Rectangle class.\n",
    "\n",
    "The Square class should be able to access the Rectangle class methods but should also contain a `set_side` method. If an instance of a Square is represented as a string, it should look like: `Square(side=9)`\n",
    "\n",
    "Additionally, the `set_width` and `set_height` methods on the Square class should set both the width and height.\n",
    "\n",
    "#### Usage example\n",
    "```py\n",
    "rect = shape_calculator.Rectangle(10, 5)\n",
    "print(rect.get_area())\n",
    "rect.set_height(3)\n",
    "print(rect.get_perimeter())\n",
    "print(rect)\n",
    "print(rect.get_picture())\n",
    "\n",
    "sq = shape_calculator.Square(9)\n",
    "print(sq.get_area())\n",
    "sq.set_side(4)\n",
    "print(sq.get_diagonal())\n",
    "print(sq)\n",
    "print(sq.get_picture())\n",
    "\n",
    "rect.set_height(8)\n",
    "rect.set_width(16)\n",
    "print(rect.get_amount_inside(sq))\n",
    "```\n",
    "That code should return:\n",
    "```\n",
    "50\n",
    "26\n",
    "Rectangle(width=10, height=3)\n",
    "**********\n",
    "**********\n",
    "**********\n",
    "\n",
    "81\n",
    "5.656854249492381\n",
    "Square(side=4)\n",
    "****\n",
    "****\n",
    "****\n",
    "****\n",
    "\n",
    "8\n",
    "```\n",
    "\n",
    "The unit tests for this project are in `test_module.py`.\n",
    "\n",
    "### Development\n",
    "\n",
    "Write your code in `shape_calculator.py`. For development, you can use `main.py` to test your `shape_calculator()` function. Click the \"run\" button and `main.py` will run.\n",
    "\n",
    "### Testing \n",
    "\n",
    "We imported the tests from `test_module.py` to `main.py` for your convenience. The tests will run automatically whenever you hit the \"run\" button.\n",
    "\n",
    "### Submitting\n",
    "\n",
    "Copy your project's URL and submit it to freeCodeCamp.\n"
   ]
  },
  {
   "cell_type": "code",
   "execution_count": 1,
   "metadata": {},
   "outputs": [],
   "source": [
    "class Rectangle:\n",
    "    '''\n",
    "    When a Rectangle object is created, it should be initialized with width and height attributes.\n",
    "    '''\n",
    "    def __init__(self, width, height):\n",
    "        self.width = width\n",
    "        self.height = height\n",
    "        \n",
    "    def __repr__(self):\n",
    "        return f\" Rectangle(width={self.width}, heigth={self.height})\"\n",
    "    \n",
    "    def set_width(self,width):\n",
    "        self.width = width\n",
    "        \n",
    "    def set_height(self,height):\n",
    "        self.height = height\n",
    "    \n",
    "    def get_area(self):\n",
    "        return (self.width * self.height)\n",
    "    \n",
    "    def get_perimeter(self):\n",
    "        return (2 *(self.width + self.height))\n",
    "    \n",
    "    def get_diagonal(self):\n",
    "        return ((self.width **2 + self.height ** 2) ** .5)\n",
    "    \n",
    "    def get_picture(self):\n",
    "        '''\n",
    "        Returns a string that represents the shape using lines of \"*\". \n",
    "        The number of lines should be equal to the height and the number of \"*\" in each line\n",
    "        should be equal to the width. \n",
    "        There should be a new line (\\n) at the end of each line. \n",
    "        If the width or height is larger than 50, this should return the string: \"Too big for picture.\".\n",
    "        '''\n",
    "        shape = \"\"\n",
    "        if self.height < 50 and self.width< 50:\n",
    "            for x in range(self.height):\n",
    "                shape += f\" {'*' * self.width}\" + '\\n'\n",
    "                x +=1\n",
    "            return shape      \n",
    "        else:\n",
    "            return(\"Too big picture\")\n",
    "        \n",
    "    def get_amount_inside(self,Shape):        \n",
    "        '''\n",
    "        Takes another shape (square or rectangle) as an argument. \n",
    "        Returns the number of times the passed in shape could fit inside the shape (with no rotations). \n",
    "        For instance, a rectangle with a width of 4 and a height of 8 could fit in two squares with sides of 4.\n",
    "        '''\n",
    "        self.amount = self.get_area()/Shape.get_area()\n",
    "        return int(self.amount)\n",
    "    \n",
    "class Square(Rectangle):\n",
    "    def __init__(self, side):\n",
    "        super().__init__(side, side)\n",
    "        \n",
    "    def __repr__(self):\n",
    "        return f\" Square(side={self.width})\"\n",
    "    \n",
    "    def set_side(self,side):\n",
    "        super().set_width(side)\n",
    "        super().set_height(side)\n",
    "        "
   ]
  },
  {
   "cell_type": "code",
   "execution_count": 2,
   "metadata": {},
   "outputs": [
    {
     "name": "stdout",
     "output_type": "stream",
     "text": [
      " Rectangle(width=5, heigth=10)\n",
      " Rectangle(width=5, heigth=2)\n",
      "5\n"
     ]
    }
   ],
   "source": [
    "rectangle = Rectangle(5,10)\n",
    "rect=Rectangle(5,2)\n",
    "print(rectangle)\n",
    "print(rect)\n",
    "print(rectangle.get_amount_inside(rect))"
   ]
  },
  {
   "cell_type": "code",
   "execution_count": 3,
   "metadata": {
    "scrolled": true
   },
   "outputs": [
    {
     "name": "stdout",
     "output_type": "stream",
     "text": [
      "60\n",
      " ********************\n",
      " ********************\n",
      " ********************\n",
      " ********************\n",
      " ********************\n",
      " ********************\n",
      " ********************\n",
      " ********************\n",
      " ********************\n",
      " ********************\n",
      "\n"
     ]
    },
    {
     "data": {
      "text/plain": [
       " Rectangle(width=20, heigth=10)"
      ]
     },
     "execution_count": 3,
     "metadata": {},
     "output_type": "execute_result"
    }
   ],
   "source": [
    "rectangle.set_width(20)\n",
    "print(rectangle.get_perimeter())\n",
    "print(rectangle.get_picture())\n",
    "rectangle"
   ]
  },
  {
   "cell_type": "code",
   "execution_count": 4,
   "metadata": {},
   "outputs": [
    {
     "name": "stdout",
     "output_type": "stream",
     "text": [
      "25\n",
      " Square(side=5)\n",
      "7.0710678118654755\n",
      " Square(side=5)\n",
      " *****\n",
      " *****\n",
      " *****\n",
      " *****\n",
      " *****\n",
      "\n"
     ]
    }
   ],
   "source": [
    "sq = Square(5)\n",
    "print(sq.get_area())\n",
    "print(sq)\n",
    "print(sq.get_diagonal())\n",
    "print(sq)\n",
    "print(sq.get_picture())"
   ]
  },
  {
   "cell_type": "code",
   "execution_count": 9,
   "metadata": {},
   "outputs": [
    {
     "name": "stdout",
     "output_type": "stream",
     "text": [
      "10000\n",
      " Square(side=100)\n",
      "141.4213562373095\n",
      " Square(side=100)\n",
      "Too big picture\n"
     ]
    }
   ],
   "source": [
    "sq.set_width(100)\n",
    "print(sq.get_area())\n",
    "print(sq)\n",
    "print(sq.get_diagonal())\n",
    "print(sq)\n",
    "print(sq.get_picture())"
   ]
  },
  {
   "cell_type": "code",
   "execution_count": 21,
   "metadata": {},
   "outputs": [
    {
     "name": "stdout",
     "output_type": "stream",
     "text": [
      "0\n"
     ]
    }
   ],
   "source": [
    "print(rect.get_amount_inside(sq))"
   ]
  },
  {
   "cell_type": "code",
   "execution_count": 6,
   "metadata": {},
   "outputs": [
    {
     "name": "stdout",
     "output_type": "stream",
     "text": [
      " Square(side=100)\n",
      " Square(side=100)\n",
      " Square(side=100)\n"
     ]
    }
   ],
   "source": [
    "sq.set_side(100)\n",
    "print(sq)\n",
    "sq.set_width(100)\n",
    "print(sq)\n",
    "sq.set_height(100)\n",
    "print(sq)"
   ]
  },
  {
   "cell_type": "code",
   "execution_count": null,
   "metadata": {},
   "outputs": [],
   "source": []
  }
 ],
 "metadata": {
  "kernelspec": {
   "display_name": "Python 3",
   "language": "python",
   "name": "python3"
  },
  "language_info": {
   "codemirror_mode": {
    "name": "ipython",
    "version": 3
   },
   "file_extension": ".py",
   "mimetype": "text/x-python",
   "name": "python",
   "nbconvert_exporter": "python",
   "pygments_lexer": "ipython3",
   "version": "3.7.4"
  }
 },
 "nbformat": 4,
 "nbformat_minor": 2
}
